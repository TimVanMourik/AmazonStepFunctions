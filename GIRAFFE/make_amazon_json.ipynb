{
 "cells": [
  {
   "cell_type": "code",
   "execution_count": null,
   "metadata": {},
   "outputs": [],
   "source": [
    "import json"
   ]
  },
  {
   "cell_type": "code",
   "execution_count": null,
   "metadata": {},
   "outputs": [],
   "source": [
    "categories = [];\n",
    "operations = ['FetchAnOrder', 'RegionChoice', 'CreateOrderB', 'OrderOK', 'ProcessOrder']\n",
    "errors = ['NoOrderPossible', 'DatabaseError', 'UnservedRegion']"
   ]
  },
  {
   "cell_type": "code",
   "execution_count": null,
   "metadata": {},
   "outputs": [],
   "source": [
    "def node2json(name, category):\n",
    "    return {\n",
    "        'name': name,\n",
    "        'category': [category],\n",
    "        'toolbox': 'Amazon',\n",
    "        'ports': [\n",
    "            {\n",
    "                \"name\": \"input\",\n",
    "                \"output\": False,\n",
    "                \"visible\": True,\n",
    "                \"editable\": True,\n",
    "                \"input\": True,\n",
    "                \"code\": []\n",
    "            },\n",
    "            {\n",
    "                \"name\": \"output\",\n",
    "                \"output\": True,\n",
    "                \"visible\": True,\n",
    "                \"editable\": True,\n",
    "                \"input\": False,\n",
    "                \"code\": []\n",
    "            },\n",
    "        ]\n",
    "    }"
   ]
  },
  {
   "cell_type": "code",
   "execution_count": null,
   "metadata": {},
   "outputs": [],
   "source": [
    "operation_nodes = {\n",
    "    'name': 'operations',\n",
    "    'colour': '#d69e13',\n",
    "    'nodes': [node2json(node, 'operations') for node in operations]\n",
    "}\n",
    "categories.append(operation_nodes);\n",
    "\n",
    "error_nodes = {\n",
    "    'name': 'errors',\n",
    "    'colour': '#c9410c',\n",
    "    'nodes': [node2json(node, 'errors') for node in errors]\n",
    "}\n",
    "categories.append(error_nodes);"
   ]
  },
  {
   "cell_type": "code",
   "execution_count": null,
   "metadata": {},
   "outputs": [],
   "source": [
    "toolboxes = [{\n",
    "    'name': \"Amazon\",\n",
    "    'categories': categories,\n",
    "}]"
   ]
  },
  {
   "cell_type": "code",
   "execution_count": null,
   "metadata": {},
   "outputs": [],
   "source": [
    "with open('amazon.json', 'w') as outfile:\n",
    "    # json.dump({'toolboxes': toolboxes}, outfile, sort_keys=False, indent=2)\n",
    "    json.dump({'toolboxes': toolboxes}, outfile, separators=(',', ':'))"
   ]
  }
 ],
 "metadata": {
  "kernelspec": {
   "display_name": "Python 3",
   "language": "python",
   "name": "python3"
  },
  "language_info": {
   "codemirror_mode": {
    "name": "ipython",
    "version": 3
   },
   "file_extension": ".py",
   "mimetype": "text/x-python",
   "name": "python",
   "nbconvert_exporter": "python",
   "pygments_lexer": "ipython3",
   "version": "3.7.0"
  }
 },
 "nbformat": 4,
 "nbformat_minor": 2
}
